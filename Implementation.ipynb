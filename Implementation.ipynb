{
 "cells": [
  {
   "cell_type": "markdown",
   "id": "72d9e2bf",
   "metadata": {},
   "source": [
    "About Kontali\n",
    "\n",
    "Kontali is an independent world-leading provider of data and analyses covering large parts of global aquaculture and fisheries. Our mission is to always have the deepest understanding of this realm and the species within it, the connections between them and to share our knowledge of seafood to create a more balanced world above and below the surface.\n",
    "\n",
    "Kontali was founded in 1987 and had up until 2020 the head count was 10-15 people. The business areas were split between ad hoc consultancy and subscriptions on PDF reports published on a weekly, bi-weekly and monthly basis. In 2020 Arendal Fossekompani (AFK) acquired 70% of the company with the goal of transforming Kontali into a data-driven technology company. In May 2021 the Tech department along with a Sales & Marketing department were established with the goal of establishing Kontali as the global reference point for seafood insight and data. With a steady growth since, the Tech department as of January 2023 counts 15 persons including 5 developers, 4 data scientists, 2 data analysts, 2 data engineers, a product manager and the CTO. On the company level Kontali has grown from 13 people in early 2020 to 35 by January 2023.\n",
    "\n",
    "The mission the Tech department was given was to establish a scalable technology platform that efficiently collects and utilizes data, and automates operations, models, and products. The original roadmap from the company strategy of February 2020 suggested a launch of a minimum viable product (MVP) in mid 2023. Starting in May 2020 meant 3 years of development until launch, but the Tech department surpassed those expectations and launched the MVP of Edge by Kontali in September 2022 - cutting the time to market in half.\n",
    "\n",
    "The short-term focus on Edge is to cover the salmonid PDF publications. The end of life for most of our salmonid reports is set to April and May 2023, which means that the current customer subscriptions of these products will be moved over to Edge during Q1 2023. Since salmonids are the basis of some 85% of Kontali’s current income it was a natural choice to focus on these species to start with. The next commercial species that will be covered by Edge is shrimp, and specifically warm-water shrimp to begin with.\n",
    "\n",
    "The long-term vision for Edge is to give a complete and exclusive story about the world of seafood, so that our customers can make faster and better decisions with confidence. To deliver on that vision we will focus on four key strategies:\n",
    "\n",
    "    Unique content: We will utilise our unique data and analyst's insights to give our users the complete and forward-looking story with extensive coverage of the world of seafood\n",
    "    Convenience: Using the portal, getting hold of the data, insights and answers to questions and uncertainties should be easy and fun. The user experience should be relevant, feel personal and create a desire to explore more.\n",
    "    State-of-the-art model frameworks: New, automated, and more advanced model frameworks with added flexibility for both our analysts and the output to customers will delight our customers by increasing our unique content and enable our analysts to create new and better insights and forecasts\n",
    "    Margin enhancement: Reducing cost of internal manual work by automating ETL and data validation. We will also explore alternative segmentations of our customer base and increase willingness to pay by productizing these segments (short/mid/long).\n",
    "\n",
    "## Assignment – Part 1\n",
    "\n",
    "Assume that you step into the role of Lead Data Scientist in Kontali on May 1st, 2023. Describe (using whatever supporting material or presentation material you prefer) how you will approach the role and what you will focus on during the first 100 days.\n",
    "\n",
    "## Assignment – Part 2\n",
    "To estimate the total biomass in a salmon production facility, the operators will take a number of samples in each cage that they measure to estimate the average size and weight in each cage. Combined with the estimates of the quantity they can calculate the total biomass for each cage and total biomass for a facility.\n",
    "\n",
    "Based on the empirical data, we have created an estimated weight distribution for each average weight in 0.1kg intervals. We assume the weight distribution of fish in a cage to be normally distributed with a given mean and standard deviation. The pairs of distribution parameters are displayed in Table 1.\n",
    "\n",
    "Example:\n",
    "\n",
    "“Operators take 14 fish samples from a fish cage, where the average weight of the samples is 2.136 kg. From the models we know that the estimated quantity in that cage is 132 000. The assumed biomass in that cage is 2.136 * 132 000 = 281 952 kg = 282 t.\n",
    "\n",
    "From the background data we see that the closest average weight data point is 2.1 kg, with a standard deviation of 0.475, which gives a normal distribution we can use to further analyse that cage”\n",
    "\n",
    "Kontali has a production model, where we estimate the number of individuals and the total biomass. Table 2 contains an example of the estimated number of individual fish and total biomass in a single cage for each month of the given year.\n",
    "\n",
    "How would you go about calculating the total harvestable biomass (fish larger than 4kg) for these months?\n",
    "\n",
    "1. What is the average weight of these (harvestable) fish?\n",
    "2. Assuming you only know the biomass and number of individuals at the start of the first month (from Table 2). Assume a growth rate of 11,2%. How much will be harvested during the next 12 months, if we assume that all fish over 4kg will be harvested at the end of each month?\n",
    "3. Do you see any other interesting questions we could try to answer with these or similar kinds of data?\n",
    "\n",
    "The source code must be made available on GitHub, Gitlab, Bitbucket or similar code sharing platforms with a description of how to run the code.\n",
    "\n",
    "The implementation can be done using any tool or language you’d like, but it’s preferrable to stick to familiar languages like Python, R or Julia.\n",
    "\n",
    "The solution to the assignment should be presented both on a technical and a non-technical level. For the technical presentation we expect a walk-through of the implementation with an explanation behind the choices made. For the non-technical presentation, you should picture yourself presenting the findings, analysis, and solution to a domain expert or similar without any data or computer science background."
   ]
  },
  {
   "cell_type": "code",
   "execution_count": 1,
   "id": "66be115f",
   "metadata": {},
   "outputs": [],
   "source": [
    "import pandas as pd\n",
    "import numpy as np\n",
    "import matplotlib.pyplot as plt\n",
    "from scipy.stats import norm\n",
    "from scipy.stats import truncnorm\n",
    "import seaborn as sns"
   ]
  },
  {
   "cell_type": "markdown",
   "id": "1df377c1",
   "metadata": {},
   "source": [
    "# Q1"
   ]
  },
  {
   "cell_type": "code",
   "execution_count": 2,
   "id": "16ca56cf",
   "metadata": {},
   "outputs": [],
   "source": [
    "biomass = 281952\n",
    "avg = 2.1\n",
    "std = 0.475\n",
    "\n",
    "threshold = 4"
   ]
  },
  {
   "cell_type": "code",
   "execution_count": 3,
   "id": "bf1e5e1b",
   "metadata": {},
   "outputs": [
    {
     "name": "stdout",
     "output_type": "stream",
     "text": [
      "Z score is 4.0\n"
     ]
    }
   ],
   "source": [
    "z = (threshold - avg)/std\n",
    "print(f'Z score is {z}')"
   ]
  },
  {
   "cell_type": "code",
   "execution_count": 4,
   "id": "bf0b9840",
   "metadata": {},
   "outputs": [
    {
     "name": "stdout",
     "output_type": "stream",
     "text": [
      "Probability of harvestable fish: 3.167124183311998e-05\n"
     ]
    }
   ],
   "source": [
    "proba_greater = 1 - norm.cdf(z)\n",
    "print(f'Probability of harvestable fish: {proba_greater}')"
   ]
  },
  {
   "cell_type": "code",
   "execution_count": 5,
   "id": "4c8096de",
   "metadata": {},
   "outputs": [
    {
     "data": {
      "text/plain": [
       "0.003167124183311998"
      ]
     },
     "execution_count": 5,
     "metadata": {},
     "output_type": "execute_result"
    }
   ],
   "source": [
    "proba_greater * 100"
   ]
  },
  {
   "cell_type": "code",
   "execution_count": 6,
   "id": "5702659c",
   "metadata": {},
   "outputs": [
    {
     "name": "stdout",
     "output_type": "stream",
     "text": [
      "Expected total nb of kg to be harvested: 8.929769977331844\n"
     ]
    }
   ],
   "source": [
    "expected_production = proba_greater * biomass\n",
    "print(f'Expected total nb of kg to be harvested: {expected_production}')"
   ]
  },
  {
   "cell_type": "markdown",
   "id": "4300489d",
   "metadata": {},
   "source": [
    "## The average weight of harvestable fish \n",
    "Can be computed by selecting only the samples above the threshold and estimating their avearage. This can be performed using a truncated normal distribution."
   ]
  },
  {
   "cell_type": "code",
   "execution_count": 7,
   "id": "dbea1f44",
   "metadata": {},
   "outputs": [
    {
     "name": "stdout",
     "output_type": "stream",
     "text": [
      "Standard truncated mean 4.225607144489479\n"
     ]
    }
   ],
   "source": [
    "standard_truncated_mean = truncnorm.stats(z, np.inf, moments='m')\n",
    "print(f'Standard truncated mean {standard_truncated_mean}')"
   ]
  },
  {
   "cell_type": "code",
   "execution_count": 8,
   "id": "b8a6f9d2",
   "metadata": {},
   "outputs": [],
   "source": [
    "z = (threshold - avg)/std"
   ]
  },
  {
   "cell_type": "code",
   "execution_count": 9,
   "id": "b61e8111",
   "metadata": {},
   "outputs": [
    {
     "name": "stdout",
     "output_type": "stream",
     "text": [
      "Expected truncated mean 4.1071633936325025\n"
     ]
    }
   ],
   "source": [
    "expected_truncated_mean = std * standard_truncated_mean + avg\n",
    "print(f'Expected truncated mean {expected_truncated_mean}')"
   ]
  },
  {
   "cell_type": "markdown",
   "id": "b31030ae",
   "metadata": {},
   "source": [
    "## Visualize the distribution"
   ]
  },
  {
   "cell_type": "code",
   "execution_count": 10,
   "id": "85de7e3d",
   "metadata": {},
   "outputs": [],
   "source": [
    "simulated = np.random.normal(loc = avg, scale = std, size = 10000)"
   ]
  },
  {
   "cell_type": "code",
   "execution_count": 11,
   "id": "34d47a89",
   "metadata": {},
   "outputs": [
    {
     "data": {
      "text/plain": [
       "<matplotlib.legend.Legend at 0x7f02254a9a90>"
      ]
     },
     "execution_count": 11,
     "metadata": {},
     "output_type": "execute_result"
    },
    {
     "data": {
      "image/png": "[encoded data removed]",
      "text/plain": [
       "<Figure size 432x288 with 1 Axes>"
      ]
     },
     "metadata": {
      "needs_background": "light"
     },
     "output_type": "display_data"
    }
   ],
   "source": [
    "plt.hist(simulated, bins = 50)\n",
    "plt.axvline(x = threshold, c = 'red', linestyle = '--', label = 'Harvestable threshold')\n",
    "plt.title('Distribution of fish weight')\n",
    "plt.xlabel('Average fish weight (kg)')\n",
    "sns.despine()\n",
    "plt.legend()"
   ]
  },
  {
   "cell_type": "markdown",
   "id": "155b5fab",
   "metadata": {},
   "source": [
    "# Create method to predict the harvested biomass"
   ]
  },
  {
   "cell_type": "code",
   "execution_count": 12,
   "id": "73d98d77",
   "metadata": {},
   "outputs": [],
   "source": [
    "def compute_expected_harvest(biomass, avg, std, threshold = 4):\n",
    "    \"\"\"\n",
    "    Computes the expected harvest in kg by multiplying the total biomass \n",
    "    by the expected probability of harvestable fish.\n",
    "    \"\"\"\n",
    "    z = (threshold - avg)/std\n",
    "    proba_greater = 1 - norm.cdf(z)\n",
    "    return proba_greater * biomass"
   ]
  },
  {
   "cell_type": "markdown",
   "id": "ae702280",
   "metadata": {},
   "source": [
    "# Q2"
   ]
  },
  {
   "cell_type": "code",
   "execution_count": 13,
   "id": "2b4cb7f4",
   "metadata": {},
   "outputs": [
    {
     "data": {
      "text/html": [
       "<div>\n",
       "<style scoped>\n",
       "    .dataframe tbody tr th:only-of-type {\n",
       "        vertical-align: middle;\n",
       "    }\n",
       "\n",
       "    .dataframe tbody tr th {\n",
       "        vertical-align: top;\n",
       "    }\n",
       "\n",
       "    .dataframe thead th {\n",
       "        text-align: right;\n",
       "    }\n",
       "</style>\n",
       "<table border=\"1\" class=\"dataframe\">\n",
       "  <thead>\n",
       "    <tr style=\"text-align: right;\">\n",
       "      <th></th>\n",
       "      <th>avg</th>\n",
       "      <th>std</th>\n",
       "    </tr>\n",
       "  </thead>\n",
       "  <tbody>\n",
       "    <tr>\n",
       "      <th>0</th>\n",
       "      <td>1.5</td>\n",
       "      <td>0.400</td>\n",
       "    </tr>\n",
       "    <tr>\n",
       "      <th>1</th>\n",
       "      <td>1.6</td>\n",
       "      <td>0.410</td>\n",
       "    </tr>\n",
       "    <tr>\n",
       "      <th>2</th>\n",
       "      <td>1.7</td>\n",
       "      <td>0.420</td>\n",
       "    </tr>\n",
       "    <tr>\n",
       "      <th>3</th>\n",
       "      <td>1.8</td>\n",
       "      <td>0.430</td>\n",
       "    </tr>\n",
       "    <tr>\n",
       "      <th>4</th>\n",
       "      <td>1.9</td>\n",
       "      <td>0.445</td>\n",
       "    </tr>\n",
       "    <tr>\n",
       "      <th>...</th>\n",
       "      <td>...</td>\n",
       "      <td>...</td>\n",
       "    </tr>\n",
       "    <tr>\n",
       "      <th>56</th>\n",
       "      <td>7.1</td>\n",
       "      <td>0.100</td>\n",
       "    </tr>\n",
       "    <tr>\n",
       "      <th>57</th>\n",
       "      <td>7.2</td>\n",
       "      <td>0.100</td>\n",
       "    </tr>\n",
       "    <tr>\n",
       "      <th>58</th>\n",
       "      <td>7.3</td>\n",
       "      <td>0.100</td>\n",
       "    </tr>\n",
       "    <tr>\n",
       "      <th>59</th>\n",
       "      <td>7.4</td>\n",
       "      <td>0.100</td>\n",
       "    </tr>\n",
       "    <tr>\n",
       "      <th>60</th>\n",
       "      <td>7.5</td>\n",
       "      <td>0.100</td>\n",
       "    </tr>\n",
       "  </tbody>\n",
       "</table>\n",
       "<p>61 rows × 2 columns</p>\n",
       "</div>"
      ],
      "text/plain": [
       "    avg    std\n",
       "0   1.5  0.400\n",
       "1   1.6  0.410\n",
       "2   1.7  0.420\n",
       "3   1.8  0.430\n",
       "4   1.9  0.445\n",
       "..  ...    ...\n",
       "56  7.1  0.100\n",
       "57  7.2  0.100\n",
       "58  7.3  0.100\n",
       "59  7.4  0.100\n",
       "60  7.5  0.100\n",
       "\n",
       "[61 rows x 2 columns]"
      ]
     },
     "execution_count": 13,
     "metadata": {},
     "output_type": "execute_result"
    }
   ],
   "source": [
    "table1 = pd.read_excel('Technical Assignment - Background data.xlsx', sheet_name='Table 1')\n",
    "table1"
   ]
  },
  {
   "cell_type": "code",
   "execution_count": 14,
   "id": "121bd7f4",
   "metadata": {},
   "outputs": [
    {
     "data": {
      "text/html": [
       "<div>\n",
       "<style scoped>\n",
       "    .dataframe tbody tr th:only-of-type {\n",
       "        vertical-align: middle;\n",
       "    }\n",
       "\n",
       "    .dataframe tbody tr th {\n",
       "        vertical-align: top;\n",
       "    }\n",
       "\n",
       "    .dataframe thead th {\n",
       "        text-align: right;\n",
       "    }\n",
       "</style>\n",
       "<table border=\"1\" class=\"dataframe\">\n",
       "  <thead>\n",
       "    <tr style=\"text-align: right;\">\n",
       "      <th></th>\n",
       "      <th>Month</th>\n",
       "      <th>Number of individuals</th>\n",
       "      <th>Biomass</th>\n",
       "    </tr>\n",
       "  </thead>\n",
       "  <tbody>\n",
       "    <tr>\n",
       "      <th>0</th>\n",
       "      <td>Jan</td>\n",
       "      <td>156077</td>\n",
       "      <td>317895</td>\n",
       "    </tr>\n",
       "    <tr>\n",
       "      <th>1</th>\n",
       "      <td>Feb</td>\n",
       "      <td>153515</td>\n",
       "      <td>348611</td>\n",
       "    </tr>\n",
       "    <tr>\n",
       "      <th>2</th>\n",
       "      <td>Mar</td>\n",
       "      <td>149766</td>\n",
       "      <td>372454</td>\n",
       "    </tr>\n",
       "    <tr>\n",
       "      <th>3</th>\n",
       "      <td>Apr</td>\n",
       "      <td>143869</td>\n",
       "      <td>392922</td>\n",
       "    </tr>\n",
       "    <tr>\n",
       "      <th>4</th>\n",
       "      <td>May</td>\n",
       "      <td>135885</td>\n",
       "      <td>404041</td>\n",
       "    </tr>\n",
       "    <tr>\n",
       "      <th>5</th>\n",
       "      <td>Jun</td>\n",
       "      <td>121411</td>\n",
       "      <td>381604</td>\n",
       "    </tr>\n",
       "    <tr>\n",
       "      <th>6</th>\n",
       "      <td>Jul</td>\n",
       "      <td>103747</td>\n",
       "      <td>348771</td>\n",
       "    </tr>\n",
       "    <tr>\n",
       "      <th>7</th>\n",
       "      <td>Aug</td>\n",
       "      <td>82179</td>\n",
       "      <td>296803</td>\n",
       "    </tr>\n",
       "    <tr>\n",
       "      <th>8</th>\n",
       "      <td>Sep</td>\n",
       "      <td>61159</td>\n",
       "      <td>237555</td>\n",
       "    </tr>\n",
       "    <tr>\n",
       "      <th>9</th>\n",
       "      <td>Oct</td>\n",
       "      <td>43519</td>\n",
       "      <td>178965</td>\n",
       "    </tr>\n",
       "    <tr>\n",
       "      <th>10</th>\n",
       "      <td>Nov</td>\n",
       "      <td>30066</td>\n",
       "      <td>130021</td>\n",
       "    </tr>\n",
       "    <tr>\n",
       "      <th>11</th>\n",
       "      <td>Dec</td>\n",
       "      <td>19175</td>\n",
       "      <td>86197</td>\n",
       "    </tr>\n",
       "  </tbody>\n",
       "</table>\n",
       "</div>"
      ],
      "text/plain": [
       "   Month  Number of individuals  Biomass\n",
       "0    Jan                 156077   317895\n",
       "1    Feb                 153515   348611\n",
       "2    Mar                 149766   372454\n",
       "3    Apr                 143869   392922\n",
       "4    May                 135885   404041\n",
       "5    Jun                 121411   381604\n",
       "6    Jul                 103747   348771\n",
       "7    Aug                  82179   296803\n",
       "8    Sep                  61159   237555\n",
       "9    Oct                  43519   178965\n",
       "10   Nov                  30066   130021\n",
       "11   Dec                  19175    86197"
      ]
     },
     "execution_count": 14,
     "metadata": {},
     "output_type": "execute_result"
    }
   ],
   "source": [
    "table2 = pd.read_excel('Technical Assignment - Background data.xlsx', sheet_name='Table 2')\n",
    "table2"
   ]
  },
  {
   "cell_type": "code",
   "execution_count": 15,
   "id": "0e549abb",
   "metadata": {},
   "outputs": [],
   "source": [
    "table1['avg'] = table1['avg'].round(1)\n",
    "\n",
    "map_weight_std = dict(zip(*table1.values.T))"
   ]
  },
  {
   "cell_type": "markdown",
   "id": "daf2871c",
   "metadata": {},
   "source": [
    "# Simulate the growth with a recurrent function"
   ]
  },
  {
   "cell_type": "code",
   "execution_count": 16,
   "id": "e60870b2",
   "metadata": {},
   "outputs": [],
   "source": [
    "growth_rate = 1.112\n",
    "nb_individuals = 156077\n",
    "biomass = 317895\n",
    "nb_months = 12\n",
    "inital_mean = biomass/nb_individuals"
   ]
  },
  {
   "cell_type": "code",
   "execution_count": 17,
   "id": "3a026742",
   "metadata": {},
   "outputs": [],
   "source": [
    "def simulate_month(inital_mean, biomass, growth_rate):\n",
    "    \"\"\"\n",
    "    Estimates the harvest in kg and the evolution of the remaining biomass\n",
    "    as well as the mean which is subject to given growth rate\n",
    "    \"\"\"\n",
    "    mean_end_month = inital_mean * growth_rate\n",
    "    rounded_mean = int(mean_end_month * 10) / 10\n",
    "\n",
    "    std = map_weight_std[rounded_mean]\n",
    "\n",
    "    biomass_end_month = biomass * growth_rate\n",
    "\n",
    "    harvested = compute_expected_harvest(biomass_end_month,\n",
    "                                         rounded_mean,\n",
    "                                         std,\n",
    "                                         threshold=4)\n",
    "\n",
    "    new_biomass = biomass_end_month - harvested\n",
    "\n",
    "    print(\n",
    "        f'\\n\\n>> inital_mean {inital_mean}, mean_end_month {mean_end_month}, rounded_mean {rounded_mean}, '\n",
    "        +\n",
    "        f'std {std}\\nbiomass_end_month {biomass_end_month}, harvested {harvested}, new_biomass {new_biomass}'\n",
    "    )\n",
    "    return harvested, mean_end_month, new_biomass"
   ]
  },
  {
   "cell_type": "code",
   "execution_count": 18,
   "id": "9e506d84",
   "metadata": {},
   "outputs": [
    {
     "name": "stdout",
     "output_type": "stream",
     "text": [
      "\n",
      "\n",
      ">> inital_mean 2.0367831262774145, mean_end_month 2.264902836420485, rounded_mean 2.2, std 0.495\n",
      "biomass_end_month 353499.24000000005, harvested 48.87372951376571, new_biomass 353450.36627048627\n",
      "\n",
      "\n",
      ">> inital_mean 2.264902836420485, mean_end_month 2.5185719540995795, rounded_mean 2.5, std 0.56\n",
      "biomass_end_month 393036.8072927808, harvested 1452.997344776097, new_biomass 391583.80994800467\n",
      "\n",
      "\n",
      ">> inital_mean 2.5185719540995795, mean_end_month 2.8006520129587327, rounded_mean 2.8, std 0.64\n",
      "biomass_end_month 435441.19666218123, harvested 13235.828141241993, new_biomass 422205.36852093926\n",
      "\n",
      "\n",
      ">> inital_mean 2.8006520129587327, mean_end_month 3.114325038410111, rounded_mean 3.1, std 0.73\n",
      "biomass_end_month 469492.36979528447, harvested 51085.87909705217, new_biomass 418406.4906982323\n",
      "\n",
      "\n",
      ">> inital_mean 3.114325038410111, mean_end_month 3.463129442712044, rounded_mean 3.4, std 0.835\n",
      "biomass_end_month 465268.0176564344, harvested 109898.70077115674, new_biomass 355369.3168852776\n",
      "\n",
      "\n",
      ">> inital_mean 3.463129442712044, mean_end_month 3.850999940295793, rounded_mean 3.8, std 0.99\n",
      "biomass_end_month 395170.68037642876, harvested 165952.111148061, new_biomass 229218.56922836776\n",
      "\n",
      "\n",
      ">> inital_mean 3.850999940295793, mean_end_month 4.282311933608923, rounded_mean 4.2, std 1.135\n",
      "biomass_end_month 254891.04898194497, harvested 145271.60747618548, new_biomass 109619.44150575949\n",
      "\n",
      "\n",
      ">> inital_mean 4.282311933608923, mean_end_month 4.761930870173122, rounded_mean 4.7, std 1.275\n",
      "biomass_end_month 121896.81895440456, harvested 86364.38419875583, new_biomass 35532.434755648734\n",
      "\n",
      "\n",
      ">> inital_mean 4.761930870173122, mean_end_month 5.2952671276325125, rounded_mean 5.2, std 1.375\n",
      "biomass_end_month 39512.06744828139, harvested 31949.22563154505, new_biomass 7562.841816736342\n",
      "\n",
      "\n",
      ">> inital_mean 5.2952671276325125, mean_end_month 5.888337045927354, rounded_mean 5.8, std 1.2\n",
      "biomass_end_month 8409.880100210812, harvested 7848.039547709064, new_biomass 561.8405525017479\n",
      "\n",
      "\n",
      ">> inital_mean 5.888337045927354, mean_end_month 6.547830795071219, rounded_mean 6.5, std 0.1\n",
      "biomass_end_month 624.7666943819437, harvested 624.7666943819437, new_biomass 0.0\n"
     ]
    }
   ],
   "source": [
    "results = pd.DataFrame(columns = ['month', 'harvested', 'biomass', 'mean'])\n",
    "results.loc[results.shape[0]] = [0, 0, biomass, inital_mean]\n",
    "for i in range(1, nb_months):\n",
    "    harvested, inital_mean, biomass = simulate_month(inital_mean, biomass, growth_rate)\n",
    "    results.loc[results.shape[0]] = [i, harvested, biomass, inital_mean]"
   ]
  },
  {
   "cell_type": "code",
   "execution_count": 20,
   "id": "3820d121",
   "metadata": {},
   "outputs": [],
   "source": [
    "results['total_harvest'] = results['harvested'].cumsum()"
   ]
  },
  {
   "cell_type": "code",
   "execution_count": 21,
   "id": "3eafc5c2",
   "metadata": {},
   "outputs": [
    {
     "data": {
      "text/html": [
       "<div>\n",
       "<style scoped>\n",
       "    .dataframe tbody tr th:only-of-type {\n",
       "        vertical-align: middle;\n",
       "    }\n",
       "\n",
       "    .dataframe tbody tr th {\n",
       "        vertical-align: top;\n",
       "    }\n",
       "\n",
       "    .dataframe thead th {\n",
       "        text-align: right;\n",
       "    }\n",
       "</style>\n",
       "<table border=\"1\" class=\"dataframe\">\n",
       "  <thead>\n",
       "    <tr style=\"text-align: right;\">\n",
       "      <th></th>\n",
       "      <th>month</th>\n",
       "      <th>harvested</th>\n",
       "      <th>biomass</th>\n",
       "      <th>mean</th>\n",
       "      <th>total_harvest</th>\n",
       "    </tr>\n",
       "  </thead>\n",
       "  <tbody>\n",
       "    <tr>\n",
       "      <th>0</th>\n",
       "      <td>0.0</td>\n",
       "      <td>0.000000</td>\n",
       "      <td>317895.000000</td>\n",
       "      <td>2.036783</td>\n",
       "      <td>0.000000</td>\n",
       "    </tr>\n",
       "    <tr>\n",
       "      <th>1</th>\n",
       "      <td>1.0</td>\n",
       "      <td>48.873730</td>\n",
       "      <td>353450.366270</td>\n",
       "      <td>2.264903</td>\n",
       "      <td>48.873730</td>\n",
       "    </tr>\n",
       "    <tr>\n",
       "      <th>2</th>\n",
       "      <td>2.0</td>\n",
       "      <td>1452.997345</td>\n",
       "      <td>391583.809948</td>\n",
       "      <td>2.518572</td>\n",
       "      <td>1501.871074</td>\n",
       "    </tr>\n",
       "    <tr>\n",
       "      <th>3</th>\n",
       "      <td>3.0</td>\n",
       "      <td>13235.828141</td>\n",
       "      <td>422205.368521</td>\n",
       "      <td>2.800652</td>\n",
       "      <td>14737.699216</td>\n",
       "    </tr>\n",
       "    <tr>\n",
       "      <th>4</th>\n",
       "      <td>4.0</td>\n",
       "      <td>51085.879097</td>\n",
       "      <td>418406.490698</td>\n",
       "      <td>3.114325</td>\n",
       "      <td>65823.578313</td>\n",
       "    </tr>\n",
       "    <tr>\n",
       "      <th>5</th>\n",
       "      <td>5.0</td>\n",
       "      <td>109898.700771</td>\n",
       "      <td>355369.316885</td>\n",
       "      <td>3.463129</td>\n",
       "      <td>175722.279084</td>\n",
       "    </tr>\n",
       "    <tr>\n",
       "      <th>6</th>\n",
       "      <td>6.0</td>\n",
       "      <td>165952.111148</td>\n",
       "      <td>229218.569228</td>\n",
       "      <td>3.851000</td>\n",
       "      <td>341674.390232</td>\n",
       "    </tr>\n",
       "    <tr>\n",
       "      <th>7</th>\n",
       "      <td>7.0</td>\n",
       "      <td>145271.607476</td>\n",
       "      <td>109619.441506</td>\n",
       "      <td>4.282312</td>\n",
       "      <td>486945.997708</td>\n",
       "    </tr>\n",
       "    <tr>\n",
       "      <th>8</th>\n",
       "      <td>8.0</td>\n",
       "      <td>86364.384199</td>\n",
       "      <td>35532.434756</td>\n",
       "      <td>4.761931</td>\n",
       "      <td>573310.381907</td>\n",
       "    </tr>\n",
       "    <tr>\n",
       "      <th>9</th>\n",
       "      <td>9.0</td>\n",
       "      <td>31949.225632</td>\n",
       "      <td>7562.841817</td>\n",
       "      <td>5.295267</td>\n",
       "      <td>605259.607538</td>\n",
       "    </tr>\n",
       "    <tr>\n",
       "      <th>10</th>\n",
       "      <td>10.0</td>\n",
       "      <td>7848.039548</td>\n",
       "      <td>561.840553</td>\n",
       "      <td>5.888337</td>\n",
       "      <td>613107.647086</td>\n",
       "    </tr>\n",
       "    <tr>\n",
       "      <th>11</th>\n",
       "      <td>11.0</td>\n",
       "      <td>624.766694</td>\n",
       "      <td>0.000000</td>\n",
       "      <td>6.547831</td>\n",
       "      <td>613732.413780</td>\n",
       "    </tr>\n",
       "  </tbody>\n",
       "</table>\n",
       "</div>"
      ],
      "text/plain": [
       "    month      harvested        biomass      mean  total_harvest\n",
       "0     0.0       0.000000  317895.000000  2.036783       0.000000\n",
       "1     1.0      48.873730  353450.366270  2.264903      48.873730\n",
       "2     2.0    1452.997345  391583.809948  2.518572    1501.871074\n",
       "3     3.0   13235.828141  422205.368521  2.800652   14737.699216\n",
       "4     4.0   51085.879097  418406.490698  3.114325   65823.578313\n",
       "5     5.0  109898.700771  355369.316885  3.463129  175722.279084\n",
       "6     6.0  165952.111148  229218.569228  3.851000  341674.390232\n",
       "7     7.0  145271.607476  109619.441506  4.282312  486945.997708\n",
       "8     8.0   86364.384199   35532.434756  4.761931  573310.381907\n",
       "9     9.0   31949.225632    7562.841817  5.295267  605259.607538\n",
       "10   10.0    7848.039548     561.840553  5.888337  613107.647086\n",
       "11   11.0     624.766694       0.000000  6.547831  613732.413780"
      ]
     },
     "execution_count": 21,
     "metadata": {},
     "output_type": "execute_result"
    }
   ],
   "source": [
    "results"
   ]
  },
  {
   "cell_type": "code",
   "execution_count": 22,
   "id": "8f1e42f9",
   "metadata": {},
   "outputs": [
    {
     "name": "stdout",
     "output_type": "stream",
     "text": [
      "Total harvest over 12: 613732.4137803791\n"
     ]
    }
   ],
   "source": [
    "total_harvest = results['harvested'].sum()\n",
    "print(f'Total harvest over {nb_months}: {total_harvest}')"
   ]
  },
  {
   "cell_type": "code",
   "execution_count": 23,
   "id": "28868f02",
   "metadata": {},
   "outputs": [
    {
     "data": {
      "image/png": "[encoded data removed]",
      "text/plain": [
       "<Figure size 1008x288 with 2 Axes>"
      ]
     },
     "metadata": {
      "needs_background": "light"
     },
     "output_type": "display_data"
    }
   ],
   "source": [
    "plt.figure(figsize = (14, 4))\n",
    "plt.subplot(121)\n",
    "plt.plot(results['harvested'], marker = 'o')\n",
    "plt.xlabel('month')\n",
    "plt.ylabel('Harvested kg')\n",
    "plt.title(f'Evolution of harvested fish')\n",
    "sns.despine()\n",
    "\n",
    "plt.subplot(122)\n",
    "plt.plot(results['biomass'], marker = 'o')\n",
    "plt.xlabel('month')\n",
    "plt.ylabel('Biomass kg')\n",
    "plt.title(f'Evolution of biomasss')\n",
    "sns.despine()"
   ]
  },
  {
   "cell_type": "code",
   "execution_count": null,
   "id": "6127a784",
   "metadata": {},
   "outputs": [],
   "source": []
  },
  {
   "cell_type": "markdown",
   "id": "b9955471",
   "metadata": {},
   "source": [
    "# Perform the same exercise on provided data"
   ]
  },
  {
   "cell_type": "code",
   "execution_count": 24,
   "id": "c315f8a7",
   "metadata": {},
   "outputs": [],
   "source": [
    "table2['mean'] = table2['Biomass']/table2['Number of individuals']\n",
    "\n",
    "table2['rounded_mean'] = (table2['mean'] * 10).astype(int)/10"
   ]
  },
  {
   "cell_type": "markdown",
   "id": "6f8aba3c",
   "metadata": {},
   "source": [
    "## Join with table 1 to get the standard deviation"
   ]
  },
  {
   "cell_type": "code",
   "execution_count": 25,
   "id": "9c93e749",
   "metadata": {},
   "outputs": [],
   "source": [
    "table2 = pd.merge(table2,\n",
    "                  table1,\n",
    "                  left_on='rounded_mean',\n",
    "                  right_on='avg',\n",
    "                  how='left').drop('avg', axis=1)"
   ]
  },
  {
   "cell_type": "code",
   "execution_count": 26,
   "id": "9814496c",
   "metadata": {},
   "outputs": [],
   "source": [
    "table2['harvested'] = table2.apply(lambda row: compute_expected_harvest(\n",
    "    row['Biomass'], row['rounded_mean'], row['std'], threshold),\n",
    "                                   axis=1)"
   ]
  },
  {
   "cell_type": "code",
   "execution_count": 27,
   "id": "a90cb10b",
   "metadata": {},
   "outputs": [
    {
     "data": {
      "image/png": "[encoded data removed]",
      "text/plain": [
       "<Figure size 1008x288 with 2 Axes>"
      ]
     },
     "metadata": {
      "needs_background": "light"
     },
     "output_type": "display_data"
    }
   ],
   "source": [
    "plt.figure(figsize = (14, 4))\n",
    "plt.subplot(121)\n",
    "plt.plot(table2['harvested'], marker = 'o')\n",
    "plt.xlabel('month')\n",
    "plt.ylabel('Harvested kg')\n",
    "plt.title(f'Evolution of harvested fish')\n",
    "sns.despine()\n",
    "\n",
    "plt.subplot(122)\n",
    "plt.plot(table2['Biomass'], marker = 'o')\n",
    "plt.xlabel('month')\n",
    "plt.ylabel('Biomass kg')\n",
    "plt.title(f'Evolution of biomasss')\n",
    "sns.despine()"
   ]
  },
  {
   "cell_type": "markdown",
   "id": "e9e527e4",
   "metadata": {},
   "source": [
    "# Conclusion\n",
    "\n",
    "- The growth rate in the excel file is not constant"
   ]
  },
  {
   "cell_type": "markdown",
   "id": "3c4c79ff",
   "metadata": {},
   "source": [
    "# Plot"
   ]
  },
  {
   "cell_type": "code",
   "execution_count": null,
   "id": "fef3b8a4",
   "metadata": {},
   "outputs": [],
   "source": [
    "simulated = np.random.normal(loc = 3, scale = 0.7, size = 10000)"
   ]
  },
  {
   "cell_type": "code",
   "execution_count": null,
   "id": "2c9ce004",
   "metadata": {},
   "outputs": [],
   "source": [
    "threshold = 4"
   ]
  },
  {
   "cell_type": "code",
   "execution_count": null,
   "id": "f656264b",
   "metadata": {},
   "outputs": [],
   "source": [
    "plt.hist(simulated, bins = 50)\n",
    "plt.axvline(x = threshold, c = 'red', linestyle = '--', label = 'Harvestable threshold')\n",
    "plt.title('Distribution of fish weight')\n",
    "plt.xlabel('Average fish weight (kg)')\n",
    "sns.despine()\n",
    "plt.legend()"
   ]
  },
  {
   "cell_type": "code",
   "execution_count": null,
   "id": "ba48300b",
   "metadata": {},
   "outputs": [],
   "source": []
  }
 ],
 "metadata": {
  "kernelspec": {
   "display_name": "Python 3 (ipykernel)",
   "language": "python",
   "name": "python3"
  },
  "language_info": {
   "codemirror_mode": {
    "name": "ipython",
    "version": 3
   },
   "file_extension": ".py",
   "mimetype": "text/x-python",
   "name": "python",
   "nbconvert_exporter": "python",
   "pygments_lexer": "ipython3",
   "version": "3.7.11"
  }
 },
 "nbformat": 4,
 "nbformat_minor": 5
}
